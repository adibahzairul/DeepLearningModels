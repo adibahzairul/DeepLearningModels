{
 "cells": [
  {
   "cell_type": "markdown",
   "metadata": {
    "id": "D5UVHJmRgCM9"
   },
   "source": [
    "### **Importing libraries & dataset**"
   ]
  },
  {
   "cell_type": "code",
   "execution_count": 4,
   "metadata": {
    "id": "l_lsVbIRYfGj"
   },
   "outputs": [],
   "source": [
    "import numpy as np\n",
    "import pandas as pd\n",
    "import tensorflow as tf\n",
    "import sklearn\n",
    "import keras\n",
    "import random\n",
    "from keras.layers import Dense\n",
    "import seaborn as sns\n",
    "import matplotlib.pyplot as plt"
   ]
  },
  {
   "cell_type": "code",
   "execution_count": 2,
   "metadata": {
    "id": "385Cl0-rYpki"
   },
   "outputs": [],
   "source": [
    "df = pd.read_csv('https://cocl.us/concrete_data')"
   ]
  },
  {
   "cell_type": "code",
   "execution_count": 3,
   "metadata": {
    "colab": {
     "base_uri": "https://localhost:8080/",
     "height": 143
    },
    "id": "e8BOxJ2zY4ls",
    "outputId": "a87144f3-16a9-45b3-b72b-079a189e9621"
   },
   "outputs": [
    {
     "data": {
      "application/vnd.google.colaboratory.intrinsic+json": {
       "summary": "{\n  \"name\": \"df\",\n  \"rows\": 1030,\n  \"fields\": [\n    {\n      \"column\": \"Cement\",\n      \"properties\": {\n        \"dtype\": \"number\",\n        \"std\": 104.50636449481532,\n        \"min\": 102.0,\n        \"max\": 540.0,\n        \"num_unique_values\": 278,\n        \"samples\": [\n          337.9,\n          290.2,\n          262.0\n        ],\n        \"semantic_type\": \"\",\n        \"description\": \"\"\n      }\n    },\n    {\n      \"column\": \"Blast Furnace Slag\",\n      \"properties\": {\n        \"dtype\": \"number\",\n        \"std\": 86.27934174810584,\n        \"min\": 0.0,\n        \"max\": 359.4,\n        \"num_unique_values\": 185,\n        \"samples\": [\n          94.7,\n          119.0,\n          136.3\n        ],\n        \"semantic_type\": \"\",\n        \"description\": \"\"\n      }\n    },\n    {\n      \"column\": \"Fly Ash\",\n      \"properties\": {\n        \"dtype\": \"number\",\n        \"std\": 63.99700415268765,\n        \"min\": 0.0,\n        \"max\": 200.1,\n        \"num_unique_values\": 156,\n        \"samples\": [\n          98.0,\n          142.0,\n          195.0\n        ],\n        \"semantic_type\": \"\",\n        \"description\": \"\"\n      }\n    },\n    {\n      \"column\": \"Water\",\n      \"properties\": {\n        \"dtype\": \"number\",\n        \"std\": 21.35421856503247,\n        \"min\": 121.8,\n        \"max\": 247.0,\n        \"num_unique_values\": 195,\n        \"samples\": [\n          195.4,\n          183.8,\n          127.3\n        ],\n        \"semantic_type\": \"\",\n        \"description\": \"\"\n      }\n    },\n    {\n      \"column\": \"Superplasticizer\",\n      \"properties\": {\n        \"dtype\": \"number\",\n        \"std\": 5.97384139248552,\n        \"min\": 0.0,\n        \"max\": 32.2,\n        \"num_unique_values\": 111,\n        \"samples\": [\n          15.0,\n          28.2,\n          16.5\n        ],\n        \"semantic_type\": \"\",\n        \"description\": \"\"\n      }\n    },\n    {\n      \"column\": \"Coarse Aggregate\",\n      \"properties\": {\n        \"dtype\": \"number\",\n        \"std\": 77.75395396672077,\n        \"min\": 801.0,\n        \"max\": 1145.0,\n        \"num_unique_values\": 284,\n        \"samples\": [\n          852.1,\n          913.9,\n          914.0\n        ],\n        \"semantic_type\": \"\",\n        \"description\": \"\"\n      }\n    },\n    {\n      \"column\": \"Fine Aggregate\",\n      \"properties\": {\n        \"dtype\": \"number\",\n        \"std\": 80.17598014240437,\n        \"min\": 594.0,\n        \"max\": 992.6,\n        \"num_unique_values\": 302,\n        \"samples\": [\n          710.0,\n          695.4,\n          769.3\n        ],\n        \"semantic_type\": \"\",\n        \"description\": \"\"\n      }\n    },\n    {\n      \"column\": \"Age\",\n      \"properties\": {\n        \"dtype\": \"number\",\n        \"std\": 63,\n        \"min\": 1,\n        \"max\": 365,\n        \"num_unique_values\": 14,\n        \"samples\": [\n          91,\n          100,\n          28\n        ],\n        \"semantic_type\": \"\",\n        \"description\": \"\"\n      }\n    },\n    {\n      \"column\": \"Strength\",\n      \"properties\": {\n        \"dtype\": \"number\",\n        \"std\": 16.705741961912512,\n        \"min\": 2.33,\n        \"max\": 82.6,\n        \"num_unique_values\": 845,\n        \"samples\": [\n          41.68,\n          39.59,\n          2.33\n        ],\n        \"semantic_type\": \"\",\n        \"description\": \"\"\n      }\n    }\n  ]\n}",
       "type": "dataframe",
       "variable_name": "df"
      },
      "text/html": [
       "\n",
       "  <div id=\"df-04c96294-d3fc-4c49-a1d5-ed64799807ab\" class=\"colab-df-container\">\n",
       "    <div>\n",
       "<style scoped>\n",
       "    .dataframe tbody tr th:only-of-type {\n",
       "        vertical-align: middle;\n",
       "    }\n",
       "\n",
       "    .dataframe tbody tr th {\n",
       "        vertical-align: top;\n",
       "    }\n",
       "\n",
       "    .dataframe thead th {\n",
       "        text-align: right;\n",
       "    }\n",
       "</style>\n",
       "<table border=\"1\" class=\"dataframe\">\n",
       "  <thead>\n",
       "    <tr style=\"text-align: right;\">\n",
       "      <th></th>\n",
       "      <th>Cement</th>\n",
       "      <th>Blast Furnace Slag</th>\n",
       "      <th>Fly Ash</th>\n",
       "      <th>Water</th>\n",
       "      <th>Superplasticizer</th>\n",
       "      <th>Coarse Aggregate</th>\n",
       "      <th>Fine Aggregate</th>\n",
       "      <th>Age</th>\n",
       "      <th>Strength</th>\n",
       "    </tr>\n",
       "  </thead>\n",
       "  <tbody>\n",
       "    <tr>\n",
       "      <th>0</th>\n",
       "      <td>540.0</td>\n",
       "      <td>0.0</td>\n",
       "      <td>0.0</td>\n",
       "      <td>162.0</td>\n",
       "      <td>2.5</td>\n",
       "      <td>1040.0</td>\n",
       "      <td>676.0</td>\n",
       "      <td>28</td>\n",
       "      <td>79.99</td>\n",
       "    </tr>\n",
       "    <tr>\n",
       "      <th>1</th>\n",
       "      <td>540.0</td>\n",
       "      <td>0.0</td>\n",
       "      <td>0.0</td>\n",
       "      <td>162.0</td>\n",
       "      <td>2.5</td>\n",
       "      <td>1055.0</td>\n",
       "      <td>676.0</td>\n",
       "      <td>28</td>\n",
       "      <td>61.89</td>\n",
       "    </tr>\n",
       "    <tr>\n",
       "      <th>2</th>\n",
       "      <td>332.5</td>\n",
       "      <td>142.5</td>\n",
       "      <td>0.0</td>\n",
       "      <td>228.0</td>\n",
       "      <td>0.0</td>\n",
       "      <td>932.0</td>\n",
       "      <td>594.0</td>\n",
       "      <td>270</td>\n",
       "      <td>40.27</td>\n",
       "    </tr>\n",
       "  </tbody>\n",
       "</table>\n",
       "</div>\n",
       "    <div class=\"colab-df-buttons\">\n",
       "\n",
       "  <div class=\"colab-df-container\">\n",
       "    <button class=\"colab-df-convert\" onclick=\"convertToInteractive('df-04c96294-d3fc-4c49-a1d5-ed64799807ab')\"\n",
       "            title=\"Convert this dataframe to an interactive table.\"\n",
       "            style=\"display:none;\">\n",
       "\n",
       "  <svg xmlns=\"http://www.w3.org/2000/svg\" height=\"24px\" viewBox=\"0 -960 960 960\">\n",
       "    <path d=\"M120-120v-720h720v720H120Zm60-500h600v-160H180v160Zm220 220h160v-160H400v160Zm0 220h160v-160H400v160ZM180-400h160v-160H180v160Zm440 0h160v-160H620v160ZM180-180h160v-160H180v160Zm440 0h160v-160H620v160Z\"/>\n",
       "  </svg>\n",
       "    </button>\n",
       "\n",
       "  <style>\n",
       "    .colab-df-container {\n",
       "      display:flex;\n",
       "      gap: 12px;\n",
       "    }\n",
       "\n",
       "    .colab-df-convert {\n",
       "      background-color: #E8F0FE;\n",
       "      border: none;\n",
       "      border-radius: 50%;\n",
       "      cursor: pointer;\n",
       "      display: none;\n",
       "      fill: #1967D2;\n",
       "      height: 32px;\n",
       "      padding: 0 0 0 0;\n",
       "      width: 32px;\n",
       "    }\n",
       "\n",
       "    .colab-df-convert:hover {\n",
       "      background-color: #E2EBFA;\n",
       "      box-shadow: 0px 1px 2px rgba(60, 64, 67, 0.3), 0px 1px 3px 1px rgba(60, 64, 67, 0.15);\n",
       "      fill: #174EA6;\n",
       "    }\n",
       "\n",
       "    .colab-df-buttons div {\n",
       "      margin-bottom: 4px;\n",
       "    }\n",
       "\n",
       "    [theme=dark] .colab-df-convert {\n",
       "      background-color: #3B4455;\n",
       "      fill: #D2E3FC;\n",
       "    }\n",
       "\n",
       "    [theme=dark] .colab-df-convert:hover {\n",
       "      background-color: #434B5C;\n",
       "      box-shadow: 0px 1px 3px 1px rgba(0, 0, 0, 0.15);\n",
       "      filter: drop-shadow(0px 1px 2px rgba(0, 0, 0, 0.3));\n",
       "      fill: #FFFFFF;\n",
       "    }\n",
       "  </style>\n",
       "\n",
       "    <script>\n",
       "      const buttonEl =\n",
       "        document.querySelector('#df-04c96294-d3fc-4c49-a1d5-ed64799807ab button.colab-df-convert');\n",
       "      buttonEl.style.display =\n",
       "        google.colab.kernel.accessAllowed ? 'block' : 'none';\n",
       "\n",
       "      async function convertToInteractive(key) {\n",
       "        const element = document.querySelector('#df-04c96294-d3fc-4c49-a1d5-ed64799807ab');\n",
       "        const dataTable =\n",
       "          await google.colab.kernel.invokeFunction('convertToInteractive',\n",
       "                                                    [key], {});\n",
       "        if (!dataTable) return;\n",
       "\n",
       "        const docLinkHtml = 'Like what you see? Visit the ' +\n",
       "          '<a target=\"_blank\" href=https://colab.research.google.com/notebooks/data_table.ipynb>data table notebook</a>'\n",
       "          + ' to learn more about interactive tables.';\n",
       "        element.innerHTML = '';\n",
       "        dataTable['output_type'] = 'display_data';\n",
       "        await google.colab.output.renderOutput(dataTable, element);\n",
       "        const docLink = document.createElement('div');\n",
       "        docLink.innerHTML = docLinkHtml;\n",
       "        element.appendChild(docLink);\n",
       "      }\n",
       "    </script>\n",
       "  </div>\n",
       "\n",
       "\n",
       "<div id=\"df-c5649dae-120a-4daa-9ec4-b1a59a3d7ce4\">\n",
       "  <button class=\"colab-df-quickchart\" onclick=\"quickchart('df-c5649dae-120a-4daa-9ec4-b1a59a3d7ce4')\"\n",
       "            title=\"Suggest charts\"\n",
       "            style=\"display:none;\">\n",
       "\n",
       "<svg xmlns=\"http://www.w3.org/2000/svg\" height=\"24px\"viewBox=\"0 0 24 24\"\n",
       "     width=\"24px\">\n",
       "    <g>\n",
       "        <path d=\"M19 3H5c-1.1 0-2 .9-2 2v14c0 1.1.9 2 2 2h14c1.1 0 2-.9 2-2V5c0-1.1-.9-2-2-2zM9 17H7v-7h2v7zm4 0h-2V7h2v10zm4 0h-2v-4h2v4z\"/>\n",
       "    </g>\n",
       "</svg>\n",
       "  </button>\n",
       "\n",
       "<style>\n",
       "  .colab-df-quickchart {\n",
       "      --bg-color: #E8F0FE;\n",
       "      --fill-color: #1967D2;\n",
       "      --hover-bg-color: #E2EBFA;\n",
       "      --hover-fill-color: #174EA6;\n",
       "      --disabled-fill-color: #AAA;\n",
       "      --disabled-bg-color: #DDD;\n",
       "  }\n",
       "\n",
       "  [theme=dark] .colab-df-quickchart {\n",
       "      --bg-color: #3B4455;\n",
       "      --fill-color: #D2E3FC;\n",
       "      --hover-bg-color: #434B5C;\n",
       "      --hover-fill-color: #FFFFFF;\n",
       "      --disabled-bg-color: #3B4455;\n",
       "      --disabled-fill-color: #666;\n",
       "  }\n",
       "\n",
       "  .colab-df-quickchart {\n",
       "    background-color: var(--bg-color);\n",
       "    border: none;\n",
       "    border-radius: 50%;\n",
       "    cursor: pointer;\n",
       "    display: none;\n",
       "    fill: var(--fill-color);\n",
       "    height: 32px;\n",
       "    padding: 0;\n",
       "    width: 32px;\n",
       "  }\n",
       "\n",
       "  .colab-df-quickchart:hover {\n",
       "    background-color: var(--hover-bg-color);\n",
       "    box-shadow: 0 1px 2px rgba(60, 64, 67, 0.3), 0 1px 3px 1px rgba(60, 64, 67, 0.15);\n",
       "    fill: var(--button-hover-fill-color);\n",
       "  }\n",
       "\n",
       "  .colab-df-quickchart-complete:disabled,\n",
       "  .colab-df-quickchart-complete:disabled:hover {\n",
       "    background-color: var(--disabled-bg-color);\n",
       "    fill: var(--disabled-fill-color);\n",
       "    box-shadow: none;\n",
       "  }\n",
       "\n",
       "  .colab-df-spinner {\n",
       "    border: 2px solid var(--fill-color);\n",
       "    border-color: transparent;\n",
       "    border-bottom-color: var(--fill-color);\n",
       "    animation:\n",
       "      spin 1s steps(1) infinite;\n",
       "  }\n",
       "\n",
       "  @keyframes spin {\n",
       "    0% {\n",
       "      border-color: transparent;\n",
       "      border-bottom-color: var(--fill-color);\n",
       "      border-left-color: var(--fill-color);\n",
       "    }\n",
       "    20% {\n",
       "      border-color: transparent;\n",
       "      border-left-color: var(--fill-color);\n",
       "      border-top-color: var(--fill-color);\n",
       "    }\n",
       "    30% {\n",
       "      border-color: transparent;\n",
       "      border-left-color: var(--fill-color);\n",
       "      border-top-color: var(--fill-color);\n",
       "      border-right-color: var(--fill-color);\n",
       "    }\n",
       "    40% {\n",
       "      border-color: transparent;\n",
       "      border-right-color: var(--fill-color);\n",
       "      border-top-color: var(--fill-color);\n",
       "    }\n",
       "    60% {\n",
       "      border-color: transparent;\n",
       "      border-right-color: var(--fill-color);\n",
       "    }\n",
       "    80% {\n",
       "      border-color: transparent;\n",
       "      border-right-color: var(--fill-color);\n",
       "      border-bottom-color: var(--fill-color);\n",
       "    }\n",
       "    90% {\n",
       "      border-color: transparent;\n",
       "      border-bottom-color: var(--fill-color);\n",
       "    }\n",
       "  }\n",
       "</style>\n",
       "\n",
       "  <script>\n",
       "    async function quickchart(key) {\n",
       "      const quickchartButtonEl =\n",
       "        document.querySelector('#' + key + ' button');\n",
       "      quickchartButtonEl.disabled = true;  // To prevent multiple clicks.\n",
       "      quickchartButtonEl.classList.add('colab-df-spinner');\n",
       "      try {\n",
       "        const charts = await google.colab.kernel.invokeFunction(\n",
       "            'suggestCharts', [key], {});\n",
       "      } catch (error) {\n",
       "        console.error('Error during call to suggestCharts:', error);\n",
       "      }\n",
       "      quickchartButtonEl.classList.remove('colab-df-spinner');\n",
       "      quickchartButtonEl.classList.add('colab-df-quickchart-complete');\n",
       "    }\n",
       "    (() => {\n",
       "      let quickchartButtonEl =\n",
       "        document.querySelector('#df-c5649dae-120a-4daa-9ec4-b1a59a3d7ce4 button');\n",
       "      quickchartButtonEl.style.display =\n",
       "        google.colab.kernel.accessAllowed ? 'block' : 'none';\n",
       "    })();\n",
       "  </script>\n",
       "</div>\n",
       "\n",
       "    </div>\n",
       "  </div>\n"
      ],
      "text/plain": [
       "   Cement  Blast Furnace Slag  Fly Ash  Water  Superplasticizer  \\\n",
       "0   540.0                 0.0      0.0  162.0               2.5   \n",
       "1   540.0                 0.0      0.0  162.0               2.5   \n",
       "2   332.5               142.5      0.0  228.0               0.0   \n",
       "\n",
       "   Coarse Aggregate  Fine Aggregate  Age  Strength  \n",
       "0            1040.0           676.0   28     79.99  \n",
       "1            1055.0           676.0   28     61.89  \n",
       "2             932.0           594.0  270     40.27  "
      ]
     },
     "execution_count": 3,
     "metadata": {},
     "output_type": "execute_result"
    }
   ],
   "source": [
    "df.head(3)"
   ]
  },
  {
   "cell_type": "code",
   "execution_count": 11,
   "metadata": {
    "colab": {
     "base_uri": "https://localhost:8080/"
    },
    "id": "4Om2NU_qvz_M",
    "outputId": "d3455aef-5571-4e38-f8b8-11b8a7d3d84d"
   },
   "outputs": [
    {
     "data": {
      "text/plain": [
       "Index(['Cement', 'Blast Furnace Slag', 'Fly Ash', 'Water', 'Superplasticizer',\n",
       "       'Coarse Aggregate', 'Fine Aggregate', 'Age', 'Strength'],\n",
       "      dtype='object')"
      ]
     },
     "execution_count": 11,
     "metadata": {},
     "output_type": "execute_result"
    }
   ],
   "source": [
    "df.columns"
   ]
  },
  {
   "cell_type": "markdown",
   "metadata": {
    "id": "915tKL4_vsfw"
   },
   "source": [
    "This data set comprises of the details of cement.\n",
    "\n",
    "*   The features would be **Blast Furnace Slag, Fly Ash,\tWater,\tSuperplasticizer,\tCoarse Aggregate,\tFine Aggregate,\tAge.**\n",
    "*   The output would be **Strength**\n",
    "\n",
    "\n"
   ]
  },
  {
   "cell_type": "markdown",
   "metadata": {
    "id": "H05akrwegRON"
   },
   "source": [
    "### **Data exploration**"
   ]
  },
  {
   "cell_type": "markdown",
   "metadata": {
    "id": "2nIWjpoiuNFQ"
   },
   "source": [
    "Plotting heatmap to see the correlation"
   ]
  },
  {
   "cell_type": "code",
   "execution_count": 8,
   "metadata": {
    "colab": {
     "base_uri": "https://localhost:8080/",
     "height": 567
    },
    "id": "qY0Ey1lXuMgC",
    "outputId": "cf21e6f6-dbe5-4d8b-8f84-2663eb408895"
   },
   "outputs": [
    {
     "data": {
      "text/plain": [
       "<Axes: >"
      ]
     },
     "execution_count": 8,
     "metadata": {},
     "output_type": "execute_result"
    },
    {
     "data": {
      "image/png": "[encoded data removed]",
      "text/plain": [
       "<Figure size 640x480 with 2 Axes>"
      ]
     },
     "metadata": {},
     "output_type": "display_data"
    }
   ],
   "source": [
    "sns.heatmap(df.corr(), annot=True)"
   ]
  },
  {
   "cell_type": "code",
   "execution_count": 12,
   "metadata": {
    "colab": {
     "base_uri": "https://localhost:8080/",
     "height": 366
    },
    "id": "Da_-00RiY6DQ",
    "outputId": "c81f53e6-af82-4163-8042-6c8ecee7deab"
   },
   "outputs": [
    {
     "data": {
      "text/html": [
       "<div>\n",
       "<style scoped>\n",
       "    .dataframe tbody tr th:only-of-type {\n",
       "        vertical-align: middle;\n",
       "    }\n",
       "\n",
       "    .dataframe tbody tr th {\n",
       "        vertical-align: top;\n",
       "    }\n",
       "\n",
       "    .dataframe thead th {\n",
       "        text-align: right;\n",
       "    }\n",
       "</style>\n",
       "<table border=\"1\" class=\"dataframe\">\n",
       "  <thead>\n",
       "    <tr style=\"text-align: right;\">\n",
       "      <th></th>\n",
       "      <th>0</th>\n",
       "    </tr>\n",
       "  </thead>\n",
       "  <tbody>\n",
       "    <tr>\n",
       "      <th>Cement</th>\n",
       "      <td>0</td>\n",
       "    </tr>\n",
       "    <tr>\n",
       "      <th>Blast Furnace Slag</th>\n",
       "      <td>0</td>\n",
       "    </tr>\n",
       "    <tr>\n",
       "      <th>Fly Ash</th>\n",
       "      <td>0</td>\n",
       "    </tr>\n",
       "    <tr>\n",
       "      <th>Water</th>\n",
       "      <td>0</td>\n",
       "    </tr>\n",
       "    <tr>\n",
       "      <th>Superplasticizer</th>\n",
       "      <td>0</td>\n",
       "    </tr>\n",
       "    <tr>\n",
       "      <th>Coarse Aggregate</th>\n",
       "      <td>0</td>\n",
       "    </tr>\n",
       "    <tr>\n",
       "      <th>Fine Aggregate</th>\n",
       "      <td>0</td>\n",
       "    </tr>\n",
       "    <tr>\n",
       "      <th>Age</th>\n",
       "      <td>0</td>\n",
       "    </tr>\n",
       "    <tr>\n",
       "      <th>Strength</th>\n",
       "      <td>0</td>\n",
       "    </tr>\n",
       "  </tbody>\n",
       "</table>\n",
       "</div><br><label><b>dtype:</b> int64</label>"
      ],
      "text/plain": [
       "Cement                0\n",
       "Blast Furnace Slag    0\n",
       "Fly Ash               0\n",
       "Water                 0\n",
       "Superplasticizer      0\n",
       "Coarse Aggregate      0\n",
       "Fine Aggregate        0\n",
       "Age                   0\n",
       "Strength              0\n",
       "dtype: int64"
      ]
     },
     "execution_count": 12,
     "metadata": {},
     "output_type": "execute_result"
    }
   ],
   "source": [
    "df.isnull().sum()"
   ]
  },
  {
   "cell_type": "markdown",
   "metadata": {
    "id": "21wQBAaLwcYu"
   },
   "source": [
    "\n",
    "**Project Objective**\n",
    "---\n",
    "\n",
    "\n",
    "In this project, a pre-trained VGG model and ResNet model will be employed. Both models will predict the strength of cement, based on the features available.\n",
    "\n",
    "For comparison purposes, the number of epochs and hidden layers will be manipulated.\n",
    "\n",
    "At the end of the project, a line plot will be created to show how each model performed, by comparing its MSE.\n",
    "\n",
    "\n",
    "---\n",
    "\n"
   ]
  },
  {
   "cell_type": "markdown",
   "metadata": {
    "id": "ZRtDxkOJgdT_"
   },
   "source": [
    "### *Splitting predictors & target*"
   ]
  },
  {
   "cell_type": "code",
   "execution_count": null,
   "metadata": {
    "id": "MeecjSAgY8ao"
   },
   "outputs": [],
   "source": [
    "x = df.drop('Strength', axis=1)\n",
    "y = df['Strength']\n",
    "n_cols = x.shape[1]"
   ]
  },
  {
   "cell_type": "code",
   "execution_count": null,
   "metadata": {
    "id": "q_RDujXofSCb"
   },
   "outputs": [],
   "source": [
    "from sklearn.model_selection import train_test_split"
   ]
  },
  {
   "cell_type": "code",
   "execution_count": null,
   "metadata": {
    "id": "lweKjDh4hCD4"
   },
   "outputs": [],
   "source": [
    "def reg_model():\n",
    "  model = keras.Sequential()\n",
    "\n",
    "  model.add(Dense(10, activation='relu', input_shape=(n_cols,)))\n",
    "  model.add(Dense(1))\n",
    "\n",
    "  model.compile(optimizer='adam', loss='mean_squared_error')\n",
    "  return model"
   ]
  },
  {
   "cell_type": "code",
   "execution_count": null,
   "metadata": {
    "colab": {
     "base_uri": "https://localhost:8080/"
    },
    "id": "qcIG-H4Dlq0A",
    "outputId": "f7a52dd1-0f4a-45bb-842c-e82d4aa22cff"
   },
   "outputs": [
    {
     "name": "stderr",
     "output_type": "stream",
     "text": [
      "/usr/local/lib/python3.10/dist-packages/keras/src/layers/core/dense.py:87: UserWarning: Do not pass an `input_shape`/`input_dim` argument to a layer. When using Sequential models, prefer using an `Input(shape)` object as the first layer in the model instead.\n",
      "  super().__init__(activity_regularizer=activity_regularizer, **kwargs)\n"
     ]
    }
   ],
   "source": [
    "model = reg_model()"
   ]
  },
  {
   "cell_type": "code",
   "execution_count": null,
   "metadata": {
    "id": "bAij7HNalyd0"
   },
   "outputs": [],
   "source": []
  },
  {
   "cell_type": "code",
   "execution_count": null,
   "metadata": {
    "colab": {
     "base_uri": "https://localhost:8080/"
    },
    "id": "z9dkuvkEm_cx",
    "outputId": "2081f3fa-374a-4be3-de5d-95b48bc61b20"
   },
   "outputs": [
    {
     "name": "stdout",
     "output_type": "stream",
     "text": [
      "Iteration  1  MSE:  343.3341979980469\n",
      "Iteration  2  MSE:  161.81639099121094\n",
      "Iteration  3  MSE:  132.80650329589844\n",
      "Iteration  4  MSE:  125.7887954711914\n",
      "Iteration  5  MSE:  141.88873291015625\n",
      "Iteration  6  MSE:  122.91536712646484\n",
      "Iteration  7  MSE:  120.12134552001953\n",
      "Iteration  8  MSE:  121.34127044677734\n",
      "Iteration  9  MSE:  131.1528778076172\n",
      "Iteration  10  MSE:  123.67809295654297\n",
      "Iteration  11  MSE:  120.90496063232422\n",
      "Iteration  12  MSE:  120.17830657958984\n",
      "Iteration  13  MSE:  127.72547912597656\n",
      "Iteration  14  MSE:  126.03299713134766\n",
      "Iteration  15  MSE:  122.03790283203125\n",
      "Iteration  16  MSE:  156.39752197265625\n",
      "Iteration  17  MSE:  124.8386459350586\n",
      "Iteration  18  MSE:  121.07544708251953\n",
      "Iteration  19  MSE:  122.20824432373047\n",
      "Iteration  20  MSE:  121.7824478149414\n",
      "Iteration  21  MSE:  120.3804702758789\n",
      "Iteration  22  MSE:  120.663330078125\n",
      "Iteration  23  MSE:  122.16585540771484\n",
      "Iteration  24  MSE:  124.99988555908203\n",
      "Iteration  25  MSE:  121.17339324951172\n",
      "Iteration  26  MSE:  119.91673278808594\n",
      "Iteration  27  MSE:  120.79997253417969\n",
      "Iteration  28  MSE:  121.19927978515625\n",
      "Iteration  29  MSE:  120.90071105957031\n",
      "Iteration  30  MSE:  122.37332916259766\n",
      "Iteration  31  MSE:  121.71902465820312\n",
      "Iteration  32  MSE:  119.98504638671875\n",
      "Iteration  33  MSE:  125.73225402832031\n",
      "Iteration  34  MSE:  120.2042236328125\n",
      "Iteration  35  MSE:  63.77145767211914\n",
      "Iteration  36  MSE:  57.6287727355957\n",
      "Iteration  37  MSE:  59.60405731201172\n",
      "Iteration  38  MSE:  60.46126174926758\n",
      "Iteration  39  MSE:  58.18695831298828\n",
      "Iteration  40  MSE:  68.99256896972656\n",
      "Iteration  41  MSE:  57.048316955566406\n",
      "Iteration  42  MSE:  57.48139953613281\n",
      "Iteration  43  MSE:  61.27831268310547\n",
      "Iteration  44  MSE:  58.284271240234375\n",
      "Iteration  45  MSE:  58.83660125732422\n",
      "Iteration  46  MSE:  56.86859893798828\n",
      "Iteration  47  MSE:  60.319427490234375\n",
      "Iteration  48  MSE:  57.37938690185547\n",
      "Iteration  49  MSE:  57.398040771484375\n",
      "Iteration  50  MSE:  64.66332244873047\n"
     ]
    }
   ],
   "source": [
    "mse = []\n",
    "for i in range (50):\n",
    "  X_train, X_test, y_train, y_test = train_test_split(x,y,test_size=0.3, random_state=1)\n",
    "  res = model.fit(X_train, y_train, validation_data=(X_test, y_test), epochs=50, verbose=0)\n",
    "  mean_squared_error = res.history['val_loss'][-1]\n",
    "  mse.append(mean_squared_error)\n",
    "  print (\"Iteration \", i+1, \" MSE: \", mean_squared_error)"
   ]
  },
  {
   "cell_type": "code",
   "execution_count": null,
   "metadata": {
    "colab": {
     "base_uri": "https://localhost:8080/"
    },
    "id": "9WhQXqy3sOZb",
    "outputId": "3f0f758d-bfd3-4ded-b5e8-3371ffd64a7b"
   },
   "outputs": [
    {
     "name": "stdout",
     "output_type": "stream",
     "text": [
      "Mean of the model's mean squared error is 108.96883583068848\n",
      "Standard deviation of the model is 46.01915846107606\n"
     ]
    }
   ],
   "source": [
    "A = mean_mse = np.mean(mse)\n",
    "std = np.std(mse)\n",
    "\n",
    "print (\"Mean of the model's mean squared error is\", mean_mse)\n",
    "print (\"Standard deviation of the model is\", std)"
   ]
  },
  {
   "cell_type": "markdown",
   "metadata": {
    "id": "HNIscvWGyZ22"
   },
   "source": [
    "# **Section B: Normalize the data**"
   ]
  },
  {
   "cell_type": "code",
   "execution_count": null,
   "metadata": {
    "id": "_TpYUpTbtQ2c"
   },
   "outputs": [],
   "source": [
    "norm_x = (x - x.mean()) / x.std()"
   ]
  },
  {
   "cell_type": "code",
   "execution_count": null,
   "metadata": {
    "colab": {
     "base_uri": "https://localhost:8080/"
    },
    "id": "HO9St4FFzSFy",
    "outputId": "2df44110-7fa9-46b8-ab9d-b833dd1fd913"
   },
   "outputs": [
    {
     "name": "stdout",
     "output_type": "stream",
     "text": [
      "Iteration  1  MSE:  247.9787139892578\n",
      "Iteration  2  MSE:  187.0441131591797\n",
      "Iteration  3  MSE:  153.5724334716797\n",
      "Iteration  4  MSE:  121.85282897949219\n",
      "Iteration  5  MSE:  90.38479614257812\n",
      "Iteration  6  MSE:  73.37084197998047\n",
      "Iteration  7  MSE:  64.34508514404297\n",
      "Iteration  8  MSE:  57.60750961303711\n",
      "Iteration  9  MSE:  53.939186096191406\n",
      "Iteration  10  MSE:  51.861061096191406\n",
      "Iteration  11  MSE:  50.629615783691406\n",
      "Iteration  12  MSE:  49.96759033203125\n",
      "Iteration  13  MSE:  49.24909210205078\n",
      "Iteration  14  MSE:  48.23743438720703\n",
      "Iteration  15  MSE:  47.337215423583984\n",
      "Iteration  16  MSE:  47.16927719116211\n",
      "Iteration  17  MSE:  46.90089797973633\n",
      "Iteration  18  MSE:  46.74015808105469\n",
      "Iteration  19  MSE:  46.6656494140625\n",
      "Iteration  20  MSE:  46.916969299316406\n",
      "Iteration  21  MSE:  46.597984313964844\n",
      "Iteration  22  MSE:  46.03805160522461\n",
      "Iteration  23  MSE:  45.830509185791016\n",
      "Iteration  24  MSE:  45.471214294433594\n",
      "Iteration  25  MSE:  45.42067337036133\n",
      "Iteration  26  MSE:  45.522560119628906\n",
      "Iteration  27  MSE:  45.62684631347656\n",
      "Iteration  28  MSE:  45.408843994140625\n",
      "Iteration  29  MSE:  45.373138427734375\n",
      "Iteration  30  MSE:  45.32813262939453\n",
      "Iteration  31  MSE:  45.34859848022461\n",
      "Iteration  32  MSE:  45.29151916503906\n",
      "Iteration  33  MSE:  45.27287292480469\n",
      "Iteration  34  MSE:  45.3792610168457\n",
      "Iteration  35  MSE:  45.39310073852539\n",
      "Iteration  36  MSE:  45.44131088256836\n",
      "Iteration  37  MSE:  45.510311126708984\n",
      "Iteration  38  MSE:  45.40177536010742\n",
      "Iteration  39  MSE:  45.56949234008789\n",
      "Iteration  40  MSE:  45.54537582397461\n",
      "Iteration  41  MSE:  45.33976745605469\n",
      "Iteration  42  MSE:  45.2105712890625\n",
      "Iteration  43  MSE:  45.07854080200195\n",
      "Iteration  44  MSE:  44.827857971191406\n",
      "Iteration  45  MSE:  44.549827575683594\n",
      "Iteration  46  MSE:  44.20379638671875\n",
      "Iteration  47  MSE:  44.20355987548828\n",
      "Iteration  48  MSE:  44.0465087890625\n",
      "Iteration  49  MSE:  44.14327621459961\n",
      "Iteration  50  MSE:  44.12049102783203\n"
     ]
    }
   ],
   "source": [
    "norm_mse = []\n",
    "\n",
    "for i in range (50):\n",
    "  X_train, X_test, y_train, y_test = train_test_split(norm_x,y,test_size=0.3, random_state=1)\n",
    "  res = model.fit(X_train, y_train, validation_data=(X_test, y_test), epochs=50, verbose=0)\n",
    "  mean_squared_error = res.history['val_loss'][-1]\n",
    "  norm_mse.append(mean_squared_error)\n",
    "  print (\"Iteration \", i+1, \" MSE: \", mean_squared_error)"
   ]
  },
  {
   "cell_type": "code",
   "execution_count": null,
   "metadata": {
    "colab": {
     "base_uri": "https://localhost:8080/"
    },
    "id": "054i2pPWzf3x",
    "outputId": "3a5dcd08-f338-42f3-899a-64aecd338ee3"
   },
   "outputs": [
    {
     "name": "stdout",
     "output_type": "stream",
     "text": [
      "Mean of the model's mean squared error is 58.7653247833252\n",
      "Standard deviation of the model is 38.27315640560406\n"
     ]
    }
   ],
   "source": [
    "B = mean_nmse = np.mean(norm_mse)\n",
    "nstd = np.std(norm_mse)\n",
    "\n",
    "print (\"Mean of the model's mean squared error is\", mean_nmse)\n",
    "print (\"Standard deviation of the model is\", nstd)"
   ]
  },
  {
   "cell_type": "markdown",
   "metadata": {
    "id": "ykkc2Or-2G1X"
   },
   "source": [
    "# **Section C: Increase number of epochs**\n",
    "\n",
    "\n"
   ]
  },
  {
   "cell_type": "code",
   "execution_count": null,
   "metadata": {
    "colab": {
     "base_uri": "https://localhost:8080/"
    },
    "id": "OyDEZX7H2Ml_",
    "outputId": "15b66705-3062-470a-bfcf-f6ea982ea61e"
   },
   "outputs": [
    {
     "name": "stdout",
     "output_type": "stream",
     "text": [
      "Iteration  1  MSE:  43.987091064453125\n",
      "Iteration  2  MSE:  43.79536819458008\n",
      "Iteration  3  MSE:  43.473114013671875\n",
      "Iteration  4  MSE:  43.3762092590332\n",
      "Iteration  5  MSE:  43.228904724121094\n",
      "Iteration  6  MSE:  43.175994873046875\n",
      "Iteration  7  MSE:  42.98021697998047\n",
      "Iteration  8  MSE:  42.8033332824707\n",
      "Iteration  9  MSE:  42.534034729003906\n",
      "Iteration  10  MSE:  42.47438049316406\n",
      "Iteration  11  MSE:  42.36823272705078\n",
      "Iteration  12  MSE:  42.27092361450195\n",
      "Iteration  13  MSE:  42.21588897705078\n",
      "Iteration  14  MSE:  42.14927291870117\n",
      "Iteration  15  MSE:  42.23699951171875\n",
      "Iteration  16  MSE:  42.08699035644531\n",
      "Iteration  17  MSE:  41.870967864990234\n",
      "Iteration  18  MSE:  42.013790130615234\n",
      "Iteration  19  MSE:  41.7413330078125\n",
      "Iteration  20  MSE:  41.600257873535156\n",
      "Iteration  21  MSE:  41.43396759033203\n",
      "Iteration  22  MSE:  41.39807891845703\n",
      "Iteration  23  MSE:  41.15651321411133\n",
      "Iteration  24  MSE:  41.10691452026367\n",
      "Iteration  25  MSE:  41.22211456298828\n",
      "Iteration  26  MSE:  40.96867370605469\n",
      "Iteration  27  MSE:  41.05900955200195\n",
      "Iteration  28  MSE:  41.03754425048828\n",
      "Iteration  29  MSE:  41.011653900146484\n",
      "Iteration  30  MSE:  41.005123138427734\n",
      "Iteration  31  MSE:  40.57225036621094\n",
      "Iteration  32  MSE:  40.55309295654297\n",
      "Iteration  33  MSE:  40.4261589050293\n",
      "Iteration  34  MSE:  40.30706787109375\n",
      "Iteration  35  MSE:  40.229373931884766\n",
      "Iteration  36  MSE:  40.03820037841797\n",
      "Iteration  37  MSE:  39.14729309082031\n",
      "Iteration  38  MSE:  38.68806457519531\n",
      "Iteration  39  MSE:  38.433349609375\n",
      "Iteration  40  MSE:  38.28851318359375\n",
      "Iteration  41  MSE:  38.1661376953125\n",
      "Iteration  42  MSE:  37.804229736328125\n",
      "Iteration  43  MSE:  37.53693771362305\n",
      "Iteration  44  MSE:  37.504356384277344\n",
      "Iteration  45  MSE:  37.434139251708984\n",
      "Iteration  46  MSE:  37.38363265991211\n",
      "Iteration  47  MSE:  37.5384635925293\n",
      "Iteration  48  MSE:  37.701744079589844\n",
      "Iteration  49  MSE:  37.569557189941406\n",
      "Iteration  50  MSE:  37.73786163330078\n"
     ]
    }
   ],
   "source": [
    "norm_mse = []\n",
    "\n",
    "for i in range (50):\n",
    "  X_train, X_test, y_train, y_test = train_test_split(norm_x,y,test_size=0.3, random_state=1)\n",
    "  res = model.fit(X_train, y_train, validation_data=(X_test, y_test), epochs=100, verbose=0)\n",
    "  mean_squared_error = res.history['val_loss'][-1]\n",
    "  norm_mse.append(mean_squared_error)\n",
    "  print (\"Iteration \", i+1, \" MSE: \", mean_squared_error)"
   ]
  },
  {
   "cell_type": "code",
   "execution_count": null,
   "metadata": {
    "colab": {
     "base_uri": "https://localhost:8080/"
    },
    "id": "YpbfeyS82WQz",
    "outputId": "fff64554-671c-474b-a0cb-38978bb66b49"
   },
   "outputs": [
    {
     "name": "stdout",
     "output_type": "stream",
     "text": [
      "Mean of the model's mean squared error is 40.73686645507812\n",
      "Standard deviation of the model is 1.9875693256886096\n"
     ]
    }
   ],
   "source": [
    "C= mean_nmse = np.mean(norm_mse)\n",
    "nstd = np.std(norm_mse)\n",
    "\n",
    "print (\"Mean of the model's mean squared error is\", mean_nmse)\n",
    "print (\"Standard deviation of the model is\", nstd)"
   ]
  },
  {
   "cell_type": "markdown",
   "metadata": {
    "id": "1Z9KSvcD2l4S"
   },
   "source": [
    "# **Section D: Add hidden layers**"
   ]
  },
  {
   "cell_type": "code",
   "execution_count": null,
   "metadata": {
    "id": "JV18uV_m2Xx1"
   },
   "outputs": [],
   "source": [
    "def reg_model2():\n",
    "  model = keras.Sequential()\n",
    "\n",
    "  model.add(Dense(10, activation='relu', input_shape=(n_cols,)))\n",
    "  model.add(Dense(10, activation='relu'))\n",
    "  model.add(Dense(10, activation='relu'))\n",
    "  model.add(Dense(1))\n",
    "\n",
    "  model.compile(optimizer='adam', loss='mean_squared_error')\n",
    "  return model"
   ]
  },
  {
   "cell_type": "code",
   "execution_count": null,
   "metadata": {
    "colab": {
     "base_uri": "https://localhost:8080/"
    },
    "id": "a-AtpXTw2_QN",
    "outputId": "11e0f356-8dfd-486e-931f-b23fac12f15f"
   },
   "outputs": [
    {
     "name": "stderr",
     "output_type": "stream",
     "text": [
      "/usr/local/lib/python3.10/dist-packages/keras/src/layers/core/dense.py:87: UserWarning: Do not pass an `input_shape`/`input_dim` argument to a layer. When using Sequential models, prefer using an `Input(shape)` object as the first layer in the model instead.\n",
      "  super().__init__(activity_regularizer=activity_regularizer, **kwargs)\n"
     ]
    }
   ],
   "source": [
    "model2 = reg_model2()"
   ]
  },
  {
   "cell_type": "code",
   "execution_count": null,
   "metadata": {
    "colab": {
     "base_uri": "https://localhost:8080/"
    },
    "id": "EI8UYC463Ca5",
    "outputId": "87985918-ff29-4cd6-a447-b5891645bc14"
   },
   "outputs": [
    {
     "name": "stdout",
     "output_type": "stream",
     "text": [
      "Iteration  1  MSE:  110.7291030883789\n",
      "Iteration  2  MSE:  53.686866760253906\n",
      "Iteration  3  MSE:  45.48454284667969\n",
      "Iteration  4  MSE:  44.85730743408203\n",
      "Iteration  5  MSE:  45.13148880004883\n",
      "Iteration  6  MSE:  44.15786361694336\n",
      "Iteration  7  MSE:  42.33121109008789\n",
      "Iteration  8  MSE:  41.696922302246094\n",
      "Iteration  9  MSE:  41.654815673828125\n",
      "Iteration  10  MSE:  40.171993255615234\n",
      "Iteration  11  MSE:  41.171607971191406\n",
      "Iteration  12  MSE:  38.888816833496094\n",
      "Iteration  13  MSE:  38.5450325012207\n",
      "Iteration  14  MSE:  37.56602096557617\n",
      "Iteration  15  MSE:  37.9227294921875\n",
      "Iteration  16  MSE:  36.12028121948242\n",
      "Iteration  17  MSE:  36.121543884277344\n",
      "Iteration  18  MSE:  36.264312744140625\n",
      "Iteration  19  MSE:  36.849124908447266\n",
      "Iteration  20  MSE:  38.39927291870117\n",
      "Iteration  21  MSE:  37.258453369140625\n",
      "Iteration  22  MSE:  37.09879684448242\n",
      "Iteration  23  MSE:  36.16964340209961\n",
      "Iteration  24  MSE:  35.696022033691406\n",
      "Iteration  25  MSE:  35.96465301513672\n",
      "Iteration  26  MSE:  35.68662643432617\n",
      "Iteration  27  MSE:  37.27504348754883\n",
      "Iteration  28  MSE:  36.430091857910156\n",
      "Iteration  29  MSE:  36.86507034301758\n",
      "Iteration  30  MSE:  36.20509338378906\n",
      "Iteration  31  MSE:  35.87517547607422\n",
      "Iteration  32  MSE:  37.01497268676758\n",
      "Iteration  33  MSE:  38.325138092041016\n",
      "Iteration  34  MSE:  38.58383560180664\n",
      "Iteration  35  MSE:  38.03117752075195\n",
      "Iteration  36  MSE:  38.57538986206055\n",
      "Iteration  37  MSE:  38.542118072509766\n",
      "Iteration  38  MSE:  39.76054382324219\n",
      "Iteration  39  MSE:  37.9687385559082\n",
      "Iteration  40  MSE:  38.98460388183594\n",
      "Iteration  41  MSE:  38.7791862487793\n",
      "Iteration  42  MSE:  39.21644973754883\n",
      "Iteration  43  MSE:  38.251731872558594\n",
      "Iteration  44  MSE:  39.73163604736328\n",
      "Iteration  45  MSE:  39.199745178222656\n",
      "Iteration  46  MSE:  39.345542907714844\n",
      "Iteration  47  MSE:  40.20833206176758\n",
      "Iteration  48  MSE:  39.295963287353516\n",
      "Iteration  49  MSE:  41.328147888183594\n",
      "Iteration  50  MSE:  40.00201416015625\n"
     ]
    }
   ],
   "source": [
    "norm_mse = []\n",
    "\n",
    "for i in range (50):\n",
    "  X_train, X_test, y_train, y_test = train_test_split(norm_x,y,test_size=0.3, random_state=1)\n",
    "  res2 = model2.fit(X_train, y_train, validation_data=(X_test, y_test), epochs=50, verbose=0)\n",
    "  mean_squared_error = res2.history['val_loss'][-1]\n",
    "  norm_mse.append(mean_squared_error)\n",
    "  print (\"Iteration \", i+1, \" MSE: \", mean_squared_error)"
   ]
  },
  {
   "cell_type": "code",
   "execution_count": null,
   "metadata": {
    "colab": {
     "base_uri": "https://localhost:8080/"
    },
    "id": "undoIvnP3PoQ",
    "outputId": "5d00810d-af5a-402a-c375-027eb50d9682"
   },
   "outputs": [
    {
     "name": "stdout",
     "output_type": "stream",
     "text": [
      "Mean of the model's mean squared error is 40.588415908813474\n",
      "Standard deviation of the model is 10.519987322915041\n"
     ]
    }
   ],
   "source": [
    "D = mean_nmse = np.mean(norm_mse)\n",
    "nstd = np.std(norm_mse)\n",
    "\n",
    "print (\"Mean of the model's mean squared error is\", mean_nmse)\n",
    "print (\"Standard deviation of the model is\", nstd)"
   ]
  },
  {
   "cell_type": "markdown",
   "metadata": {
    "id": "VodYuEp24UqP"
   },
   "source": [
    "# **Comparison**"
   ]
  },
  {
   "cell_type": "code",
   "execution_count": null,
   "metadata": {
    "colab": {
     "base_uri": "https://localhost:8080/"
    },
    "id": "OP6iMsKc4XLj",
    "outputId": "cc2030ca-5361-4a63-f60f-611462b8fbff"
   },
   "outputs": [
    {
     "name": "stdout",
     "output_type": "stream",
     "text": [
      "108.96883583068848 58.7653247833252 40.73686645507812 40.588415908813474\n"
     ]
    }
   ],
   "source": [
    "print (A,B,C,D)"
   ]
  },
  {
   "cell_type": "code",
   "execution_count": null,
   "metadata": {
    "colab": {
     "base_uri": "https://localhost:8080/",
     "height": 466
    },
    "id": "zu7BfH_v4b4G",
    "outputId": "af3b2a22-6660-4ee6-d91d-efb5fcf9859b"
   },
   "outputs": [
    {
     "data": {
      "text/plain": [
       "Text(0, 0.5, 'Mean Squared Error')"
      ]
     },
     "execution_count": 43,
     "metadata": {},
     "output_type": "execute_result"
    },
    {
     "data": {
      "image/png": "[encoded data removed]",
      "text/plain": [
       "<Figure size 640x480 with 1 Axes>"
      ]
     },
     "metadata": {},
     "output_type": "display_data"
    }
   ],
   "source": [
    "import seaborn as sns\n",
    "import matplotlib.pyplot as plt\n",
    "\n",
    "sns.pointplot(x=['Section A', 'Section B','Section C','Section D'], y=[A,B,C,D])\n",
    "plt.xlabel('Section')\n",
    "plt.ylabel('Mean Squared Error')"
   ]
  },
  {
   "cell_type": "markdown",
   "metadata": {
    "id": "3YvbJcVJyN4d"
   },
   "source": [
    "\n",
    "\n",
    "---\n",
    "As shown in the plot above, the Model B performed relatively better than Model A, after using normalized data.\n",
    "\n",
    "Increasing the number of epochs also helped in better performance of the models. However, it is observed that Model C and Model D had similar MSE, which might mean that the Model C is performing well, and might not need the additional hidden layers.\n",
    "\n",
    "---\n",
    "\n",
    "The flaw in these models are the steep learning rate from Model A to Model B. It may be improved by fine-tuning the hyperparameters to better fit the model for this specific project.\n",
    "\n",
    "\n",
    "---\n",
    "\n",
    "**Thanks!**\n",
    "\n",
    "---\n",
    "\n",
    "\n",
    "\n"
   ]
  }
 ],
 "metadata": {
  "colab": {
   "provenance": []
  },
  "kernelspec": {
   "display_name": "Python 3 (ipykernel)",
   "language": "python",
   "name": "python3"
  },
  "language_info": {
   "codemirror_mode": {
    "name": "ipython",
    "version": 3
   },
   "file_extension": ".py",
   "mimetype": "text/x-python",
   "name": "python",
   "nbconvert_exporter": "python",
   "pygments_lexer": "ipython3",
   "version": "3.9.12"
  }
 },
 "nbformat": 4,
 "nbformat_minor": 1
}
